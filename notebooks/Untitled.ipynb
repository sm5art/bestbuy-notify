{
 "cells": [
  {
   "cell_type": "code",
   "execution_count": 1,
   "id": "musical-shift",
   "metadata": {},
   "outputs": [],
   "source": [
    "import requests"
   ]
  },
  {
   "cell_type": "code",
   "execution_count": 4,
   "id": "developmental-effort",
   "metadata": {},
   "outputs": [],
   "source": [
    "from bs4 import BeautifulSoup"
   ]
  },
  {
   "cell_type": "code",
   "execution_count": 5,
   "id": "returning-collaboration",
   "metadata": {},
   "outputs": [],
   "source": [
    "in_stock_test = \"https://www.bestbuy.com/site/super-mario-odyssey-standard-edition-nintendo-switch/5721722.p?skuId=5721722\""
   ]
  },
  {
   "cell_type": "code",
   "execution_count": 28,
   "id": "structural-stand",
   "metadata": {},
   "outputs": [],
   "source": [
    "headers = {\"user-agent\": \"Mozilla/5.0 (Macintosh; Intel Mac OS X 10_15_7) AppleWebKit/537.36 (KHTML, like Gecko) Chrome/88.0.4324.96 Safari/537.36\"}\n",
    "req = requests.get(in_stock_test, headers=headers)\n",
    "soup = BeautifulSoup(req.text, 'lxml')"
   ]
  },
  {
   "cell_type": "code",
   "execution_count": 29,
   "id": "protective-graph",
   "metadata": {},
   "outputs": [
    {
     "data": {
      "text/plain": [
       "True"
      ]
     },
     "execution_count": 29,
     "metadata": {},
     "output_type": "execute_result"
    }
   ],
   "source": [
    "availability = '\"availability\":\"http://schema.org/InStock\"' \n",
    "availability in req.text\n",
    "    \n"
   ]
  },
  {
   "cell_type": "code",
   "execution_count": 17,
   "id": "documentary-tension",
   "metadata": {},
   "outputs": [],
   "source": [
    "not_instock_test = \"https://www.bestbuy.com/site/nvidia-geforce-rtx-3070-8gb-gddr6-pci-express-4-0-graphics-card-dark-platinum-and-black/6429442.p?skuId=6429442\""
   ]
  },
  {
   "cell_type": "code",
   "execution_count": 18,
   "id": "duplicate-mainstream",
   "metadata": {},
   "outputs": [],
   "source": [
    "req1 = requests.get(not_instock_test, headers=headers)\n",
    "soup1 = BeautifulSoup(req1.text, 'lxml')"
   ]
  },
  {
   "cell_type": "code",
   "execution_count": 20,
   "id": "furnished-stake",
   "metadata": {},
   "outputs": [],
   "source": [
    "with open(\"test1.txt\", \"w+\") as f:\n",
    "    f.write(str(soup1))"
   ]
  },
  {
   "cell_type": "code",
   "execution_count": 24,
   "id": "electronic-equivalent",
   "metadata": {},
   "outputs": [],
   "source": [
    "nonavailability = '\"availability\":\"http://schema.org/SoldOut\"'"
   ]
  },
  {
   "cell_type": "code",
   "execution_count": 25,
   "id": "maritime-volleyball",
   "metadata": {},
   "outputs": [
    {
     "data": {
      "text/plain": [
       "True"
      ]
     },
     "execution_count": 25,
     "metadata": {},
     "output_type": "execute_result"
    }
   ],
   "source": [
    "nonavailability in req1.text"
   ]
  },
  {
   "cell_type": "code",
   "execution_count": 32,
   "id": "delayed-chamber",
   "metadata": {},
   "outputs": [
    {
     "data": {
      "text/plain": [
       "False"
      ]
     },
     "execution_count": 32,
     "metadata": {},
     "output_type": "execute_result"
    }
   ],
   "source": [
    "nonavailability in req.text"
   ]
  },
  {
   "cell_type": "code",
   "execution_count": null,
   "id": "chubby-problem",
   "metadata": {},
   "outputs": [],
   "source": []
  }
 ],
 "metadata": {
  "kernelspec": {
   "display_name": "Python 3.7.3 64-bit ('venv': virtualenv)",
   "language": "python",
   "name": "python37364bitvenvvirtualenvc18265ac378e436698ba4d0b09e1ee14"
  },
  "language_info": {
   "codemirror_mode": {
    "name": "ipython",
    "version": 3
   },
   "file_extension": ".py",
   "mimetype": "text/x-python",
   "name": "python",
   "nbconvert_exporter": "python",
   "pygments_lexer": "ipython3",
   "version": "3.7.3"
  }
 },
 "nbformat": 4,
 "nbformat_minor": 5
}
